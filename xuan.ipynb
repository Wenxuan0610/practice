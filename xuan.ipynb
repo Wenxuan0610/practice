{
 "cells": [
  {
   "cell_type": "markdown",
   "id": "26ddfbe3",
   "metadata": {},
   "source": [
    "# Exercise2 xuan"
   ]
  },
  {
   "cell_type": "markdown",
   "id": "8480db15",
   "metadata": {},
   "source": [
    " In the notebook, I completed my homework"
   ]
  },
  {
   "cell_type": "markdown",
   "id": "142e041e",
   "metadata": {},
   "source": [
    "Exercise4 \n",
    "1. Python\n",
    "1. R\n",
    "1. SQL\n",
    "1. Java\n",
    "1. Julia"
   ]
  },
  {
   "cell_type": "markdown",
   "id": "b6c56b56",
   "metadata": {},
   "source": [
    "Exercise5 \n",
    "1. Panda\n",
    "1. Numpy\n",
    "1. Pytorch\n",
    "1. Keras"
   ]
  },
  {
   "cell_type": "markdown",
   "id": "a20e4498",
   "metadata": {},
   "source": [
    "Exercise6 \n",
    "| Open Source | Description |\n",
    "| -------- | ------- |\n",
    "| Pandas       | Data manipulation and analysis library for Python.           |\n",
    "| Numpy        | Library for numerical computing in Python.                   |\n",
    "| Scikit-learn | Machine learning library for Python.  "
   ]
  },
  {
   "cell_type": "markdown",
   "id": "71851ee8",
   "metadata": {},
   "source": [
    "### Exercise7  `+` : Addition"
   ]
  },
  {
   "cell_type": "code",
   "execution_count": 13,
   "id": "0e988c33",
   "metadata": {},
   "outputs": [
    {
     "data": {
      "text/plain": [
       "17"
      ]
     },
     "execution_count": 13,
     "metadata": {},
     "output_type": "execute_result"
    }
   ],
   "source": [
    "# This is an arithmetic expression \n",
    "(3*4)+5"
   ]
  },
  {
   "cell_type": "code",
   "execution_count": 14,
   "id": "75def548",
   "metadata": {},
   "outputs": [
    {
     "name": "stdout",
     "output_type": "stream",
     "text": [
      "3.3333333333333335\n"
     ]
    }
   ],
   "source": [
    "#The following expression convert minutes to hour\n",
    "minutes = 200\n",
    "hour = minutes/60\n",
    "print(hour)"
   ]
  },
  {
   "cell_type": "markdown",
   "id": "54293b46",
   "metadata": {},
   "source": [
    "Exercise10\n",
    "- A new markdown cell is inserted below the introduction cell. \n",
    "\n",
    "- It includes the title Objectives in bold font.\n",
    "\n",
    "- An unordered list which lists three or more objectives is included."
   ]
  },
  {
   "cell_type": "markdown",
   "id": "88d7d5c2",
   "metadata": {},
   "source": [
    "## Author\n",
    "Wenxuan wu"
   ]
  }
 ],
 "metadata": {
  "kernelspec": {
   "display_name": "Python 3 (ipykernel)",
   "language": "python",
   "name": "python3"
  },
  "language_info": {
   "codemirror_mode": {
    "name": "ipython",
    "version": 3
   },
   "file_extension": ".py",
   "mimetype": "text/x-python",
   "name": "python",
   "nbconvert_exporter": "python",
   "pygments_lexer": "ipython3",
   "version": "3.11.5"
  }
 },
 "nbformat": 4,
 "nbformat_minor": 5
}
