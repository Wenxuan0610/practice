{
 "cells": [
  {
   "cell_type": "markdown",
   "id": "26ddfbe3",
   "metadata": {},
   "source": [
    "# Data Science Tools and Ecosystem"
   ]
  },
  {
   "cell_type": "markdown",
   "id": "8480db15",
   "metadata": {},
   "source": [
    "In this notebook, Data Science Tools and Ecosystem are summarized."
   ]
  },
  {
   "cell_type": "markdown",
   "id": "142e041e",
   "metadata": {},
   "source": [
    "Exercise4 \n",
    "1. Python\n",
    "1. R\n",
    "1. SQL\n",
    "1. Java\n",
    "1. Julia"
   ]
  },
  {
   "cell_type": "markdown",
   "id": "b6c56b56",
   "metadata": {},
   "source": [
    "Exercise5 \n",
    "1. Panda\n",
    "1. Numpy\n",
    "1. Pytorch\n",
    "1. Keras"
   ]
  },
  {
   "cell_type": "markdown",
   "id": "a20e4498",
   "metadata": {},
   "source": [
    "Exercise6 \n",
    "| Open Source|\n",
    "| -------- |\n",
    "| Anaconda       | \n",
    "| Jupyter NoteBook         | \n",
    "| R Studio |  "
   ]
  },
  {
   "cell_type": "markdown",
   "id": "71851ee8",
   "metadata": {},
   "source": [
    "### Below are a few examples of evaluating arithmetic expressions in Python\n",
    "`+` : Addition"
   ]
  },
  {
   "cell_type": "code",
   "execution_count": 13,
   "id": "0e988c33",
   "metadata": {},
   "outputs": [
    {
     "data": {
      "text/plain": [
       "17"
      ]
     },
     "execution_count": 13,
     "metadata": {},
     "output_type": "execute_result"
    }
   ],
   "source": [
    "# This is an arithmetic expression \n",
    "(3*4)+5"
   ]
  },
  {
   "cell_type": "code",
   "execution_count": 15,
   "id": "75def548",
   "metadata": {},
   "outputs": [
    {
     "data": {
      "text/plain": [
       "3.3333333333333335"
      ]
     },
     "execution_count": 15,
     "metadata": {},
     "output_type": "execute_result"
    }
   ],
   "source": [
    "#The following expression convert minutes to hour\n",
    "200/60"
   ]
  },
  {
   "cell_type": "markdown",
   "id": "54293b46",
   "metadata": {},
   "source": [
    "Exercise10\n",
    "**Objectives:**\n",
    "- R\n",
    "\n",
    "- SQL\n",
    "\n",
    "- Java"
   ]
  },
  {
   "cell_type": "markdown",
   "id": "88d7d5c2",
   "metadata": {},
   "source": [
    "## Author\n",
    "Wenxuan wu"
   ]
  }
 ],
 "metadata": {
  "kernelspec": {
   "display_name": "Python 3 (ipykernel)",
   "language": "python",
   "name": "python3"
  },
  "language_info": {
   "codemirror_mode": {
    "name": "ipython",
    "version": 3
   },
   "file_extension": ".py",
   "mimetype": "text/x-python",
   "name": "python",
   "nbconvert_exporter": "python",
   "pygments_lexer": "ipython3",
   "version": "3.11.5"
  }
 },
 "nbformat": 4,
 "nbformat_minor": 5
}
